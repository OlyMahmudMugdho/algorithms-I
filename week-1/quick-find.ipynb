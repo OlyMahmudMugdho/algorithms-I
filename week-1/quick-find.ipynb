{
 "cells": [
  {
   "cell_type": "code",
   "execution_count": 26,
   "id": "ad65a9ee",
   "metadata": {},
   "outputs": [],
   "source": [
    "class Union:\n",
    "    \n",
    "    id = []\n",
    "    \n",
    "    def insert(self,id_array):\n",
    "        self.id = id_array\n",
    "        \n",
    "    def is_connected(self,p,q):\n",
    "        pid = self.id[p]\n",
    "        qid = self.id[q]\n",
    "        \n",
    "        if(pid==qid):\n",
    "            return True\n",
    "        return False\n",
    "    \n",
    "    def connect(self,p,q):\n",
    "        pid = self.id[p]\n",
    "        qid = self.id[q]\n",
    "        \n",
    "        for i in self.id :\n",
    "            if(self.id[i]==pid):\n",
    "                self.id[i] = qid"
   ]
  },
  {
   "cell_type": "code",
   "execution_count": 27,
   "id": "231051b8",
   "metadata": {},
   "outputs": [],
   "source": [
    "union1 = Union()"
   ]
  },
  {
   "cell_type": "code",
   "execution_count": 28,
   "id": "007f946d",
   "metadata": {},
   "outputs": [],
   "source": [
    "nums = [1,4,3,0,0,4]"
   ]
  },
  {
   "cell_type": "code",
   "execution_count": 29,
   "id": "22cdda52",
   "metadata": {},
   "outputs": [],
   "source": [
    "union1.insert(nums)"
   ]
  },
  {
   "cell_type": "code",
   "execution_count": 30,
   "id": "0edadf27",
   "metadata": {},
   "outputs": [
    {
     "data": {
      "text/plain": [
       "False"
      ]
     },
     "execution_count": 30,
     "metadata": {},
     "output_type": "execute_result"
    }
   ],
   "source": [
    "union1.is_connected(1,2)"
   ]
  },
  {
   "cell_type": "code",
   "execution_count": 19,
   "id": "f3c48e3f",
   "metadata": {},
   "outputs": [
    {
     "data": {
      "text/plain": [
       "True"
      ]
     },
     "execution_count": 19,
     "metadata": {},
     "output_type": "execute_result"
    }
   ],
   "source": [
    "union1.is_connected(3,4)"
   ]
  },
  {
   "cell_type": "code",
   "execution_count": 20,
   "id": "eb1efb3d",
   "metadata": {},
   "outputs": [],
   "source": [
    "union1.connect(0,1)"
   ]
  },
  {
   "cell_type": "code",
   "execution_count": 21,
   "id": "9b7aca13",
   "metadata": {},
   "outputs": [
    {
     "data": {
      "text/plain": [
       "True"
      ]
     },
     "execution_count": 21,
     "metadata": {},
     "output_type": "execute_result"
    }
   ],
   "source": [
    "union1.is_connected(0,1)"
   ]
  },
  {
   "cell_type": "code",
   "execution_count": 22,
   "id": "cfbc1a22",
   "metadata": {},
   "outputs": [
    {
     "data": {
      "text/plain": [
       "[4, 4, 3, 0, 0, 4]"
      ]
     },
     "execution_count": 22,
     "metadata": {},
     "output_type": "execute_result"
    }
   ],
   "source": [
    "union1.id"
   ]
  },
  {
   "cell_type": "code",
   "execution_count": 23,
   "id": "f1e94e8b",
   "metadata": {},
   "outputs": [
    {
     "data": {
      "text/plain": [
       "True"
      ]
     },
     "execution_count": 23,
     "metadata": {},
     "output_type": "execute_result"
    }
   ],
   "source": [
    "union1.is_connected(1,5)"
   ]
  },
  {
   "cell_type": "code",
   "execution_count": 24,
   "id": "5fa46e6d",
   "metadata": {},
   "outputs": [],
   "source": [
    "union1.connect(1,2)"
   ]
  },
  {
   "cell_type": "code",
   "execution_count": 25,
   "id": "e8b8faec",
   "metadata": {},
   "outputs": [
    {
     "data": {
      "text/plain": [
       "[3, 4, 3, 0, 0, 4]"
      ]
     },
     "execution_count": 25,
     "metadata": {},
     "output_type": "execute_result"
    }
   ],
   "source": [
    "union1.id"
   ]
  },
  {
   "cell_type": "code",
   "execution_count": null,
   "id": "92b9ac26",
   "metadata": {},
   "outputs": [],
   "source": []
  }
 ],
 "metadata": {
  "kernelspec": {
   "display_name": "Python 3 (ipykernel)",
   "language": "python",
   "name": "python3"
  },
  "language_info": {
   "codemirror_mode": {
    "name": "ipython",
    "version": 3
   },
   "file_extension": ".py",
   "mimetype": "text/x-python",
   "name": "python",
   "nbconvert_exporter": "python",
   "pygments_lexer": "ipython3",
   "version": "3.10.10"
  }
 },
 "nbformat": 4,
 "nbformat_minor": 5
}
